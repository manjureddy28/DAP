{
  "nbformat": 4,
  "nbformat_minor": 5,
  "metadata": {
    "kernelspec": {
      "display_name": "Python 3",
      "language": "python",
      "name": "python3"
    },
    "language_info": {
      "codemirror_mode": {
        "name": "ipython",
        "version": 3
      },
      "file_extension": ".py",
      "mimetype": "text/x-python",
      "name": "python",
      "nbconvert_exporter": "python",
      "pygments_lexer": "ipython3",
      "version": "3.8.8"
    },
    "colab": {
      "name": "manju_Pandas-Sorting.ipynb",
      "provenance": [],
      "include_colab_link": true
    }
  },
  "cells": [
    {
      "cell_type": "markdown",
      "metadata": {
        "id": "view-in-github",
        "colab_type": "text"
      },
      "source": [
        "<a href=\"https://colab.research.google.com/github/manjureddy28/DAP/blob/main/manju_Pandas_Sorting.ipynb\" target=\"_parent\"><img src=\"https://colab.research.google.com/assets/colab-badge.svg\" alt=\"Open In Colab\"/></a>"
      ]
    },
    {
      "cell_type": "code",
      "metadata": {
        "id": "9edbd48e",
        "outputId": "075e6c57-464c-4079-bbdb-9d035ef28706"
      },
      "source": [
        "import pandas as pd\n",
        "import numpy as np\n",
        "\n",
        "unsorted_df=pd.DataFrame(np.random.randn(10,2),index=[1,4,6,2,3,5,9,8,0,7],columns=['col2','col1'])\n",
        "print (unsorted_df)"
      ],
      "id": "9edbd48e",
      "execution_count": null,
      "outputs": [
        {
          "name": "stdout",
          "output_type": "stream",
          "text": [
            "       col2      col1\n",
            "1 -1.348001 -0.723905\n",
            "4 -0.020240  0.793453\n",
            "6 -0.343218 -1.496981\n",
            "2  1.433365  0.215793\n",
            "3  0.524501 -0.395169\n",
            "5 -1.197247 -0.398900\n",
            "9  0.157104 -0.370006\n",
            "8  0.375584  0.345588\n",
            "0  0.381005 -0.289350\n",
            "7  0.942037 -1.666176\n"
          ]
        }
      ]
    },
    {
      "cell_type": "code",
      "metadata": {
        "id": "8ab4201f",
        "outputId": "cfa645b1-ea48-42b6-8dc1-e27060ede67b"
      },
      "source": [
        "import pandas as pd\n",
        "import numpy as np\n",
        "\n",
        "unsorted_df = pd.DataFrame(np.random.randn(10,2),index=[1,4,6,2,3,5,9,8,0,7],columns = ['col2','col1'])\n",
        "\n",
        "sorted_df=unsorted_df.sort_index()\n",
        "print (sorted_df)"
      ],
      "id": "8ab4201f",
      "execution_count": null,
      "outputs": [
        {
          "name": "stdout",
          "output_type": "stream",
          "text": [
            "       col2      col1\n",
            "0  1.080333 -0.685791\n",
            "1 -2.072923  0.149576\n",
            "2 -1.017470  0.637887\n",
            "3  0.663192 -0.109558\n",
            "4 -0.109214  0.135431\n",
            "5  1.438883  0.512004\n",
            "6 -1.260370  0.243528\n",
            "7  0.933349  0.266327\n",
            "8 -0.169306 -0.263793\n",
            "9 -0.296281  0.274268\n"
          ]
        }
      ]
    },
    {
      "cell_type": "code",
      "metadata": {
        "id": "5888cf77",
        "outputId": "119dbc86-0034-445b-ece1-3bb5adf8453f"
      },
      "source": [
        "import pandas as pd\n",
        "import numpy as np\n",
        "\n",
        "unsorted_df = pd.DataFrame(np.random.randn(10,2),index=[1,4,6,2,3,5,9,8,0,7],columns = ['col2','col1'])\n",
        "\n",
        "sorted_df = unsorted_df.sort_index(ascending=False)\n",
        "print (sorted_df)"
      ],
      "id": "5888cf77",
      "execution_count": null,
      "outputs": [
        {
          "name": "stdout",
          "output_type": "stream",
          "text": [
            "       col2      col1\n",
            "9  0.419733  0.339218\n",
            "8 -0.919786  0.876719\n",
            "7  0.500340  0.532077\n",
            "6 -1.153827 -0.233134\n",
            "5  1.539948 -0.692490\n",
            "4 -1.302723 -0.415176\n",
            "3 -0.074272  0.070024\n",
            "2  0.067481 -0.465634\n",
            "1 -1.031260  0.016264\n",
            "0  0.371075  1.388999\n"
          ]
        }
      ]
    },
    {
      "cell_type": "code",
      "metadata": {
        "id": "2c8e8d2a",
        "outputId": "db0269c4-f7e8-4d48-e1fe-9e7f653c782c"
      },
      "source": [
        "import pandas as pd\n",
        "import numpy as np\n",
        " \n",
        "unsorted_df = pd.DataFrame(np.random.randn(10,2),index=[1,4,6,2,3,5,9,8,0,7],columns = ['col2','col1'])\n",
        " \n",
        "sorted_df=unsorted_df.sort_index(axis=1)\n",
        "\n",
        "print (sorted_df)"
      ],
      "id": "2c8e8d2a",
      "execution_count": null,
      "outputs": [
        {
          "name": "stdout",
          "output_type": "stream",
          "text": [
            "       col1      col2\n",
            "1 -0.154511  0.476389\n",
            "4  0.269849  0.085632\n",
            "6 -0.131993 -0.022483\n",
            "2  0.616650  0.720580\n",
            "3  0.965333  3.320490\n",
            "5  0.864344  0.080299\n",
            "9  0.108683  0.717751\n",
            "8 -1.214840 -0.267902\n",
            "0 -0.631016 -0.213998\n",
            "7  0.293938  1.788917\n"
          ]
        }
      ]
    },
    {
      "cell_type": "code",
      "metadata": {
        "id": "d78703bd",
        "outputId": "8a949fff-5b27-4a81-c9c6-69b5b8ba48f6"
      },
      "source": [
        "import pandas as pd\n",
        "import numpy as np\n",
        "\n",
        "unsorted_df = pd.DataFrame({'col1':[2,1,1,1],'col2':[1,3,2,4]})\n",
        "sorted_df = unsorted_df.sort_values(by='col1')\n",
        "\n",
        "print (sorted_df)"
      ],
      "id": "d78703bd",
      "execution_count": null,
      "outputs": [
        {
          "name": "stdout",
          "output_type": "stream",
          "text": [
            "   col1  col2\n",
            "1     1     3\n",
            "2     1     2\n",
            "3     1     4\n",
            "0     2     1\n"
          ]
        }
      ]
    },
    {
      "cell_type": "code",
      "metadata": {
        "id": "da0e9260",
        "outputId": "696d0c64-ceff-4e82-9d39-16880fc31854"
      },
      "source": [
        "import pandas as pd\n",
        "import numpy as np\n",
        "\n",
        "unsorted_df = pd.DataFrame({'col1':[2,1,1,1],'col2':[1,3,2,4]})\n",
        "sorted_df = unsorted_df.sort_values(by=['col1','col2'])\n",
        "\n",
        "print (sorted_df)"
      ],
      "id": "da0e9260",
      "execution_count": null,
      "outputs": [
        {
          "name": "stdout",
          "output_type": "stream",
          "text": [
            "   col1  col2\n",
            "2     1     2\n",
            "1     1     3\n",
            "3     1     4\n",
            "0     2     1\n"
          ]
        }
      ]
    },
    {
      "cell_type": "code",
      "metadata": {
        "id": "6ebf1e65",
        "outputId": "063524e8-2ec3-408d-c4f7-1335d7493137"
      },
      "source": [
        "import pandas as pd\n",
        "import numpy as np\n",
        "\n",
        "unsorted_df = pd.DataFrame({'col1':[2,1,1,1],'col2':[1,3,2,4]})\n",
        "sorted_df = unsorted_df.sort_values(by='col1' ,kind='mergesort')\n",
        "\n",
        "print (sorted_df)"
      ],
      "id": "6ebf1e65",
      "execution_count": null,
      "outputs": [
        {
          "name": "stdout",
          "output_type": "stream",
          "text": [
            "   col1  col2\n",
            "1     1     3\n",
            "2     1     2\n",
            "3     1     4\n",
            "0     2     1\n"
          ]
        }
      ]
    },
    {
      "cell_type": "code",
      "metadata": {
        "id": "033c791f"
      },
      "source": [
        ""
      ],
      "id": "033c791f",
      "execution_count": null,
      "outputs": []
    }
  ]
}