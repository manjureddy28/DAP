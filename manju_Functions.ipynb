{
  "nbformat": 4,
  "nbformat_minor": 5,
  "metadata": {
    "kernelspec": {
      "display_name": "Python 3",
      "language": "python",
      "name": "python3"
    },
    "language_info": {
      "codemirror_mode": {
        "name": "ipython",
        "version": 3
      },
      "file_extension": ".py",
      "mimetype": "text/x-python",
      "name": "python",
      "nbconvert_exporter": "python",
      "pygments_lexer": "ipython3",
      "version": "3.8.8"
    },
    "colab": {
      "name": "manju_Functions.ipynb",
      "provenance": [],
      "include_colab_link": true
    }
  },
  "cells": [
    {
      "cell_type": "markdown",
      "metadata": {
        "id": "view-in-github",
        "colab_type": "text"
      },
      "source": [
        "<a href=\"https://colab.research.google.com/github/manjureddy28/DAP/blob/main/manju_Functions.ipynb\" target=\"_parent\"><img src=\"https://colab.research.google.com/assets/colab-badge.svg\" alt=\"Open In Colab\"/></a>"
      ]
    },
    {
      "cell_type": "code",
      "metadata": {
        "id": "610c6d6a",
        "colab": {
          "base_uri": "https://localhost:8080/"
        },
        "outputId": "00f31063-af57-4660-e285-ba126b55d066"
      },
      "source": [
        "\n",
        "def hello (str):\n",
        "     print(\"in function   \" + str)\n",
        "     print(\"after printing in function definition\")\n",
        "     return;\n",
        "    \n",
        "    \n",
        "print(\"1\")\n",
        "print(\"2\")\n",
        "hello(\"MANJU\")\n",
        "hello(\"SHARMA\")\n",
        "print(\"3\")\n",
        "    \n",
        "\n"
      ],
      "id": "610c6d6a",
      "execution_count": null,
      "outputs": [
        {
          "output_type": "stream",
          "name": "stdout",
          "text": [
            "1\n",
            "2\n",
            "in function   MANJU\n",
            "after printing in function definition\n",
            "in function   SHARMA\n",
            "after printing in function definition\n",
            "3\n"
          ]
        }
      ]
    },
    {
      "cell_type": "code",
      "metadata": {
        "id": "fb2145fc",
        "outputId": "35605b5d-8a0a-481d-ea1f-425a1a9184ce"
      },
      "source": [
        "def changeme( mylist ):\n",
        "   mylist.append([1,2,3,4]);\n",
        "   print (\"Values inside the function: \", mylist)\n",
        "   return;\n",
        "\n",
        "mylist = [10,20,30];\n",
        "changeme( mylist );\n",
        "print (\"Values outside the function: \", mylist)\n"
      ],
      "id": "fb2145fc",
      "execution_count": null,
      "outputs": [
        {
          "name": "stdout",
          "output_type": "stream",
          "text": [
            "Values inside the function:  [10, 20, 30, [1, 2, 3, 4]]\n",
            "Values outside the function:  [10, 20, 30, [1, 2, 3, 4]]\n"
          ]
        }
      ]
    },
    {
      "cell_type": "code",
      "metadata": {
        "id": "78748955",
        "outputId": "a7b53d07-fee2-49a8-b7ca-9aa73b197f35"
      },
      "source": [
        "def changeme( mylist ):\n",
        "    print (\"BEFORE CHANGESValues inside the function: \", mylist)\n",
        "    mylist = [1,2,3,4]; \n",
        "    print (\"AFTER CHANGES Values inside the function: \", mylist)\n",
        "    return\n",
        "\n",
        "\n",
        "mylist1 = [10,20,30];\n",
        "changeme( mylist1 );\n",
        "print (\"Values outside the function: \", mylist1)"
      ],
      "id": "78748955",
      "execution_count": null,
      "outputs": [
        {
          "name": "stdout",
          "output_type": "stream",
          "text": [
            "BEFORE CHANGESValues inside the function:  [10, 20, 30]\n",
            "AFTER CHANGES Values inside the function:  [1, 2, 3, 4]\n",
            "Values outside the function:  [10, 20, 30]\n"
          ]
        }
      ]
    },
    {
      "cell_type": "code",
      "metadata": {
        "id": "4ce4e4e3",
        "outputId": "9aa59787-d41b-4f4b-8765-274f3dc3f24e"
      },
      "source": [
        "def printme( str ):\n",
        "     print (str)\n",
        "     return;\n",
        "\n",
        "\n",
        "printme()"
      ],
      "id": "4ce4e4e3",
      "execution_count": null,
      "outputs": [
        {
          "ename": "TypeError",
          "evalue": "printme() missing 1 required positional argument: 'str'",
          "output_type": "error",
          "traceback": [
            "\u001b[1;31m---------------------------------------------------------------------------\u001b[0m",
            "\u001b[1;31mTypeError\u001b[0m                                 Traceback (most recent call last)",
            "\u001b[1;32m<ipython-input-56-4e1f21ca7b12>\u001b[0m in \u001b[0;36m<module>\u001b[1;34m\u001b[0m\n\u001b[0;32m      4\u001b[0m \u001b[1;33m\u001b[0m\u001b[0m\n\u001b[0;32m      5\u001b[0m \u001b[1;33m\u001b[0m\u001b[0m\n\u001b[1;32m----> 6\u001b[1;33m \u001b[0mprintme\u001b[0m\u001b[1;33m(\u001b[0m\u001b[1;33m)\u001b[0m\u001b[1;33m\u001b[0m\u001b[1;33m\u001b[0m\u001b[0m\n\u001b[0m",
            "\u001b[1;31mTypeError\u001b[0m: printme() missing 1 required positional argument: 'str'"
          ]
        }
      ]
    },
    {
      "cell_type": "code",
      "metadata": {
        "scrolled": true,
        "id": "3fd7b07c",
        "outputId": "0c815773-9b77-4081-b752-8345ab2bcff5"
      },
      "source": [
        "def printme( str ):\n",
        "     print (str)\n",
        "     return;\n",
        "\n",
        "\n",
        "printme( str = \"My string\")"
      ],
      "id": "3fd7b07c",
      "execution_count": null,
      "outputs": [
        {
          "name": "stdout",
          "output_type": "stream",
          "text": [
            "My string\n"
          ]
        }
      ]
    },
    {
      "cell_type": "code",
      "metadata": {
        "id": "4f1aa13a",
        "outputId": "573fef04-51c6-4b4d-b389-06bcdb4c48f0"
      },
      "source": [
        "def printinfo( name, age ):\n",
        "    print (\"Name: \", name)\n",
        "    print (\"Age \", age)\n",
        "    return;\n",
        "\n",
        "\n",
        "printinfo( age=50, name=\"miki\" )"
      ],
      "id": "4f1aa13a",
      "execution_count": null,
      "outputs": [
        {
          "name": "stdout",
          "output_type": "stream",
          "text": [
            "Name:  miki\n",
            "Age  50\n"
          ]
        }
      ]
    },
    {
      "cell_type": "code",
      "metadata": {
        "id": "31440757",
        "outputId": "c347cd5c-0880-47f6-b045-d52d9a3f2852"
      },
      "source": [
        "def printinfo( name, age ):\n",
        "    print (\"Name: \", name)\n",
        "    print (\"Age \", age)\n",
        "    return;\n",
        "\n",
        "printinfo( \"miki\",50 )"
      ],
      "id": "31440757",
      "execution_count": null,
      "outputs": [
        {
          "name": "stdout",
          "output_type": "stream",
          "text": [
            "Name:  miki\n",
            "Age  50\n"
          ]
        }
      ]
    },
    {
      "cell_type": "code",
      "metadata": {
        "id": "686dee84",
        "outputId": "d597bb6c-86fb-4ee9-d7c6-fad0ad10de84"
      },
      "source": [
        "def printinfo( name, age ):\n",
        "    print (\"Name: \", name)\n",
        "    print (\"Age \", age)\n",
        "    return;\n",
        "\n",
        "printinfo( 50, \"miki\" )"
      ],
      "id": "686dee84",
      "execution_count": null,
      "outputs": [
        {
          "name": "stdout",
          "output_type": "stream",
          "text": [
            "Name:  50\n",
            "Age  miki\n"
          ]
        }
      ]
    },
    {
      "cell_type": "code",
      "metadata": {
        "id": "2e9d9fe4",
        "outputId": "ec1d0997-0a83-4300-bd8b-5ec01c836bec"
      },
      "source": [
        "def printinfo( name, age = 35 ):\n",
        "    print (\"Name: \", name)\n",
        "    print (\"Age \", age)\n",
        "    return;\n",
        "\n",
        "\n",
        "printinfo( age=50, name=\"miki\" )\n",
        "printinfo( name=\"miki\" )"
      ],
      "id": "2e9d9fe4",
      "execution_count": null,
      "outputs": [
        {
          "name": "stdout",
          "output_type": "stream",
          "text": [
            "Name:  miki\n",
            "Age  50\n",
            "Name:  miki\n",
            "Age  35\n"
          ]
        }
      ]
    },
    {
      "cell_type": "code",
      "metadata": {
        "id": "1897fba0",
        "outputId": "0c8bba0d-b572-4554-a03b-2e4b95340fc4"
      },
      "source": [
        "def printinfo( arg1, *vartuple ):\n",
        "     print (\"Output is: \")\n",
        "     print (\"arg1==\",arg1)\n",
        "     for var in vartuple:\n",
        "        print (var)\n",
        "     return;\n",
        "\n",
        "printinfo( 10,78 )\n",
        "printinfo( 70, 60, 50,90 )"
      ],
      "id": "1897fba0",
      "execution_count": null,
      "outputs": [
        {
          "name": "stdout",
          "output_type": "stream",
          "text": [
            "Output is: \n",
            "arg1== 10\n",
            "78\n",
            "Output is: \n",
            "arg1== 70\n",
            "60\n",
            "50\n",
            "90\n"
          ]
        }
      ]
    },
    {
      "cell_type": "code",
      "metadata": {
        "id": "55739efd",
        "outputId": "f543c85d-9f11-4ac8-bef1-dc102a8c235e"
      },
      "source": [
        "sum = lambda arg1, arg2: arg1 + arg2;\n",
        "\n",
        "print (\"Value of total : \", sum( 10, 20 ))\n",
        "print (\"Value of total : \", sum( 20, 20 ))"
      ],
      "id": "55739efd",
      "execution_count": null,
      "outputs": [
        {
          "name": "stdout",
          "output_type": "stream",
          "text": [
            "Value of total :  30\n",
            "Value of total :  40\n"
          ]
        }
      ]
    },
    {
      "cell_type": "code",
      "metadata": {
        "id": "b5e22453",
        "outputId": "c9ea3617-529f-4ffa-e0c5-ec891f6107cb"
      },
      "source": [
        "def sum( arg1, arg2 ):\n",
        "    total = arg1 + arg2\n",
        "    print (\"Inside the function : \", total)\n",
        "    return total;\n",
        "\n",
        "\n",
        "total1 = sum( 10, 20 );\n",
        "print (\"Outside the function : \", total1 )"
      ],
      "id": "b5e22453",
      "execution_count": null,
      "outputs": [
        {
          "name": "stdout",
          "output_type": "stream",
          "text": [
            "Inside the function :  30\n",
            "Outside the function :  30\n"
          ]
        }
      ]
    },
    {
      "cell_type": "code",
      "metadata": {
        "id": "97396c41",
        "outputId": "70dbf987-6724-4492-effc-cf4c179acd40"
      },
      "source": [
        "total = 99; \n",
        "\n",
        "def sum( arg1, arg2 ):\n",
        "    total = arg1 + arg2; \n",
        "    print (\"Inside the function local total : \", total)\n",
        "    return total;\n",
        "\n",
        "\n",
        "sum( 10, 20 );\n",
        "print (\"Outside the function global total : \", total )"
      ],
      "id": "97396c41",
      "execution_count": null,
      "outputs": [
        {
          "name": "stdout",
          "output_type": "stream",
          "text": [
            "Inside the function local total :  30\n",
            "Outside the function global total :  99\n"
          ]
        }
      ]
    },
    {
      "cell_type": "code",
      "metadata": {
        "id": "4b526999"
      },
      "source": [
        ""
      ],
      "id": "4b526999",
      "execution_count": null,
      "outputs": []
    }
  ]
}