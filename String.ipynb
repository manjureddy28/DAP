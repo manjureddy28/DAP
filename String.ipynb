{
  "nbformat": 4,
  "nbformat_minor": 5,
  "metadata": {
    "kernelspec": {
      "display_name": "Python 3",
      "language": "python",
      "name": "python3"
    },
    "language_info": {
      "codemirror_mode": {
        "name": "ipython",
        "version": 3
      },
      "file_extension": ".py",
      "mimetype": "text/x-python",
      "name": "python",
      "nbconvert_exporter": "python",
      "pygments_lexer": "ipython3",
      "version": "3.8.8"
    },
    "colab": {
      "name": "String.ipynb",
      "provenance": [],
      "include_colab_link": true
    }
  },
  "cells": [
    {
      "cell_type": "markdown",
      "metadata": {
        "id": "view-in-github",
        "colab_type": "text"
      },
      "source": [
        "<a href=\"https://colab.research.google.com/github/manjureddy28/DAP/blob/main/String.ipynb\" target=\"_parent\"><img src=\"https://colab.research.google.com/assets/colab-badge.svg\" alt=\"Open In Colab\"/></a>"
      ]
    },
    {
      "cell_type": "code",
      "metadata": {
        "colab": {
          "base_uri": "https://localhost:8080/"
        },
        "id": "639477ba",
        "outputId": "9615963c-57b2-42af-95fd-347e08a3c86a"
      },
      "source": [
        "var1 = 'Hello World!'\n",
        "var2 = \"Python Programming\"\n",
        "print(var1,\" \",var2)"
      ],
      "id": "639477ba",
      "execution_count": null,
      "outputs": [
        {
          "output_type": "stream",
          "name": "stdout",
          "text": [
            "Hello World!   Python Programming\n"
          ]
        }
      ]
    },
    {
      "cell_type": "code",
      "metadata": {
        "id": "08c2f75a",
        "outputId": "03840991-dd61-4815-e7e4-046ace495df3"
      },
      "source": [
        "var1 = 'Hello World!'\n",
        "var2 = \"Python Programming\"\n",
        "\n",
        "print (var1[0])\n",
        "\n",
        "\n",
        "\n",
        "print (var2[1:5])"
      ],
      "id": "08c2f75a",
      "execution_count": null,
      "outputs": [
        {
          "name": "stdout",
          "output_type": "stream",
          "text": [
            "H\n",
            "ytho\n"
          ]
        }
      ]
    },
    {
      "cell_type": "code",
      "metadata": {
        "colab": {
          "base_uri": "https://localhost:8080/"
        },
        "id": "2a3bb715",
        "outputId": "4bc06766-0b05-45be-fd04-5fd5a5a8aefb"
      },
      "source": [
        "var1 = 'Hello World!'\n",
        "print (\"Updated String :- \", var1[0:6] + 'manju')"
      ],
      "id": "2a3bb715",
      "execution_count": null,
      "outputs": [
        {
          "output_type": "stream",
          "name": "stdout",
          "text": [
            "Updated String :-  Hello manju\n"
          ]
        }
      ]
    },
    {
      "cell_type": "code",
      "metadata": {
        "id": "5a9795e9",
        "outputId": "d58d2dd1-e502-4af8-ffeb-414e65f951a6"
      },
      "source": [
        "str1 = input(\"Please Enter Your Own String : \")\n",
        "\n",
        "str2 = str1\n",
        "str3 = str1[:]\n",
        "str4 = str1[2:6]\n",
        "\n",
        "print(\"The Final String : Str2  = \", str2)\n",
        "print(\"The Final String : Str3  = = \", str3)\n",
        "print(\"The Final String : Str4  = = \", str4)"
      ],
      "id": "5a9795e9",
      "execution_count": null,
      "outputs": [
        {
          "name": "stdout",
          "output_type": "stream",
          "text": [
            "Please Enter Your Own String : hello class\n",
            "The Final String : Str2  =  hello class\n",
            "The Final String : Str3  = =  hello class\n",
            "The Final String : Str4  = =  llo \n"
          ]
        }
      ]
    },
    {
      "cell_type": "code",
      "metadata": {
        "id": "e78fecfd",
        "outputId": "7d800f2c-c2c7-4b98-ce26-df5185a88072"
      },
      "source": [
        "#Python String capitalize() method returns a copy of the string with only its first character capitalized.\n",
        "str = \"this is string example....wow!!!\";\n",
        "print (\"str.capitalize() : \", str.capitalize())"
      ],
      "id": "e78fecfd",
      "execution_count": null,
      "outputs": [
        {
          "name": "stdout",
          "output_type": "stream",
          "text": [
            "str.capitalize() :  This is string example....wow!!!\n"
          ]
        }
      ]
    },
    {
      "cell_type": "code",
      "metadata": {
        "id": "e3e0d875",
        "outputId": "378339cc-9fb9-4cc6-e1cf-d6901c1acc6c"
      },
      "source": [
        "#center() returns centered in a string of length width. Padding is done using the specified fillchar. Default filler is a space.\n",
        "\n",
        "\n",
        "str = \"this is string example....wow!!!\"\n",
        "print (\"str.center(40, 'a') : \", str.center(40, '*'))"
      ],
      "id": "e3e0d875",
      "execution_count": null,
      "outputs": [
        {
          "name": "stdout",
          "output_type": "stream",
          "text": [
            "str.center(40, 'a') :  ****this is string example....wow!!!****\n"
          ]
        }
      ]
    },
    {
      "cell_type": "code",
      "metadata": {
        "id": "09638a80",
        "outputId": "a20dc0c8-cc6d-4f92-b4c4-750a43dfe102"
      },
      "source": [
        "#count() returns the number of occurrences of substring sub in the range [start, end]. \n",
        "\n",
        "#str.count(sub, start= 0,end=len(string))\n",
        "\n",
        "str = \"this is string example....wow!!!\";\n",
        "\n",
        "sub = \"i\";\n",
        "print (\"str.count(sub, 4, 40) : \", str.count(sub, 4, 40))\n",
        "sub = \"wow\";\n",
        "print (\"str.count(sub) : \", str.count(sub))"
      ],
      "id": "09638a80",
      "execution_count": null,
      "outputs": [
        {
          "name": "stdout",
          "output_type": "stream",
          "text": [
            "str.count(sub, 4, 40) :  2\n",
            "str.count(sub) :  1\n"
          ]
        }
      ]
    },
    {
      "cell_type": "code",
      "metadata": {
        "id": "ab509538",
        "outputId": "0482c7c8-b14e-431d-c67f-a4bc22716405"
      },
      "source": [
        "#find() determines if string str occurs in string, or in a substring of string if starting index beg and ending index end are given.\n",
        "\n",
        "#str.find(str, beg=0, end=len(string))\n",
        "\n",
        "str1 = \"this is string example....wow!!!\";\n",
        "str2 = \"is\";\n",
        "\n",
        "print (str1.find(str2))\n",
        "print (str1.find(str2, 10))\n",
        "print (str1.find(str2, 40))"
      ],
      "id": "ab509538",
      "execution_count": null,
      "outputs": [
        {
          "name": "stdout",
          "output_type": "stream",
          "text": [
            "2\n",
            "-1\n",
            "-1\n"
          ]
        }
      ]
    },
    {
      "cell_type": "code",
      "metadata": {
        "id": "280f1fb5",
        "outputId": "9ebfc04d-33fc-415a-d373-31af6c6183f8"
      },
      "source": [
        "#index() determines if string str occurs in string or in a substring of string if starting index beg and ending index end are given.\n",
        "\n",
        "str1 = \"this is string example....wow!!!\";\n",
        "str2 = \"exam\";\n",
        "\n",
        "print (str1.index(str2))\n",
        "print (str1.index(str2, 10,32))\n"
      ],
      "id": "280f1fb5",
      "execution_count": null,
      "outputs": [
        {
          "name": "stdout",
          "output_type": "stream",
          "text": [
            "15\n",
            "15\n"
          ]
        }
      ]
    },
    {
      "cell_type": "code",
      "metadata": {
        "id": "3185da7c",
        "outputId": "d09f3665-6c6e-4c24-8344-94a1f710e454"
      },
      "source": [
        "#isalnum() checks whether the string consists of alphanumeric characters.\n",
        "\n",
        "str = \"this2009\";  # No space in this string\n",
        "print (str.isalnum())\n",
        "\n",
        "str = \"this is string example....wow!!!\";\n",
        "print (str.isalnum())"
      ],
      "id": "3185da7c",
      "execution_count": null,
      "outputs": [
        {
          "name": "stdout",
          "output_type": "stream",
          "text": [
            "True\n",
            "False\n"
          ]
        }
      ]
    },
    {
      "cell_type": "code",
      "metadata": {
        "colab": {
          "base_uri": "https://localhost:8080/"
        },
        "id": "c1d5f159",
        "outputId": "be4cbe41-c6b2-42f1-a209-53bf681fe7dd"
      },
      "source": [
        "str = \"Manjunath Reddy\";  # No space & digit in this string\n",
        "print (str.isalpha())\n",
        "\n",
        "str = \"this is string example....wow!!!\";\n",
        "print (str.isalpha())"
      ],
      "id": "c1d5f159",
      "execution_count": null,
      "outputs": [
        {
          "output_type": "stream",
          "name": "stdout",
          "text": [
            "False\n",
            "False\n"
          ]
        }
      ]
    },
    {
      "cell_type": "code",
      "metadata": {
        "id": "2446680f",
        "outputId": "2a7825e7-48f6-4790-8f13-ef020c7defd4"
      },
      "source": [
        "str = \"123456\";  # Only digit in this string\n",
        "print (str.isdigit())\n",
        "\n",
        "str = \"this is string example....wow!!!\";\n",
        "print (str.isdigit())"
      ],
      "id": "2446680f",
      "execution_count": null,
      "outputs": [
        {
          "name": "stdout",
          "output_type": "stream",
          "text": [
            "True\n",
            "False\n"
          ]
        }
      ]
    },
    {
      "cell_type": "code",
      "metadata": {
        "scrolled": true,
        "id": "ed8c6da3",
        "outputId": "169cc013-16a9-45ea-e75a-90685b067b02"
      },
      "source": [
        "str = \"THIS is string example....wow!!!\"; \n",
        "print (str.islower())\n",
        "\n",
        "str = \"this is string example....wow!!!\";\n",
        "print (str.islower())"
      ],
      "id": "ed8c6da3",
      "execution_count": null,
      "outputs": [
        {
          "name": "stdout",
          "output_type": "stream",
          "text": [
            "False\n",
            "True\n"
          ]
        }
      ]
    },
    {
      "cell_type": "code",
      "metadata": {
        "id": "9bad371e",
        "outputId": "ef8c340c-73a4-4b86-989f-e87bee2f33e3"
      },
      "source": [
        "str = \"this2009\";  \n",
        "print (str.isnumeric())\n",
        "\n",
        "str = \"23443434\";\n",
        "print (str.isnumeric())"
      ],
      "id": "9bad371e",
      "execution_count": null,
      "outputs": [
        {
          "name": "stdout",
          "output_type": "stream",
          "text": [
            "False\n",
            "True\n"
          ]
        }
      ]
    },
    {
      "cell_type": "code",
      "metadata": {
        "id": "6f8e242a",
        "outputId": "4a46a947-1e46-499b-93dd-16100a79529b"
      },
      "source": [
        "str = \"  \"; \n",
        "print (str.isspace())\n",
        "\n",
        "str = \"This is string example....wow!!!\";\n",
        "print (str.isspace())"
      ],
      "id": "6f8e242a",
      "execution_count": null,
      "outputs": [
        {
          "name": "stdout",
          "output_type": "stream",
          "text": [
            "True\n",
            "False\n"
          ]
        }
      ]
    },
    {
      "cell_type": "code",
      "metadata": {
        "id": "a6c16bc6",
        "outputId": "85764104-0878-4069-fdfc-df59c74eb8c2"
      },
      "source": [
        "str = \"This Is String Example...Wow!!!\";\n",
        "print (str.istitle())\n",
        "\n",
        "str = \"This is string example....wow!!!\";\n",
        "print (str.istitle())"
      ],
      "id": "a6c16bc6",
      "execution_count": null,
      "outputs": [
        {
          "name": "stdout",
          "output_type": "stream",
          "text": [
            "True\n",
            "False\n"
          ]
        }
      ]
    },
    {
      "cell_type": "code",
      "metadata": {
        "id": "e2390df2",
        "outputId": "f2fe0fca-975f-4bb8-acd1-ef2d1c18d0c3"
      },
      "source": [
        "\n",
        "str = \"THIS IS STRING EXAMPLE....WOW!!!\"; \n",
        "print (str.isupper())\n",
        "\n",
        "str = \"THIS is string example....wow!!!\";\n",
        "print (str.isupper())"
      ],
      "id": "e2390df2",
      "execution_count": null,
      "outputs": [
        {
          "name": "stdout",
          "output_type": "stream",
          "text": [
            "True\n",
            "False\n"
          ]
        }
      ]
    },
    {
      "cell_type": "code",
      "metadata": {
        "id": "1af7db5c",
        "outputId": "adb16ea8-f8d7-4587-b891-2fe1a7ea9984"
      },
      "source": [
        "#join() returns a string in which the string elements of sequence have been joined by str separator.\n",
        "\n",
        "s = \"  *  *  \";\n",
        "seq = (\"abc\", \"bttt\", \"cqweqe\"); # This is sequence of strings.\n",
        "print (s.join( seq ))"
      ],
      "id": "1af7db5c",
      "execution_count": null,
      "outputs": [
        {
          "name": "stdout",
          "output_type": "stream",
          "text": [
            "abc  *  *  bttt  *  *  cqweqe\n"
          ]
        }
      ]
    },
    {
      "cell_type": "code",
      "metadata": {
        "id": "355a2d7c",
        "outputId": "9beb8c7e-5a10-456b-a606-46b840a8f2fb"
      },
      "source": [
        "str = \"this is string example....wow!!!\";\n",
        "print (\"Length of the string: \", len(str))"
      ],
      "id": "355a2d7c",
      "execution_count": null,
      "outputs": [
        {
          "name": "stdout",
          "output_type": "stream",
          "text": [
            "Length of the string:  32\n"
          ]
        }
      ]
    },
    {
      "cell_type": "code",
      "metadata": {
        "id": "5cc3dcbb",
        "outputId": "b6364dea-c50c-4d60-fa9c-fa92fe105587"
      },
      "source": [
        "#lstrip() returns a copy of the string in which all chars have been stripped from the beginning of the string (default whitespace characters)\n",
        "\n",
        "str = \"     this is string example....wow!!!     \";\n",
        "print (str.lstrip())\n",
        "str = \"88888888this is string example....wow!!!999999\";\n",
        "print (str.lstrip('8'))\n",
        "print (str.rstrip('9'))\n",
        "\n",
        "\n"
      ],
      "id": "5cc3dcbb",
      "execution_count": null,
      "outputs": [
        {
          "name": "stdout",
          "output_type": "stream",
          "text": [
            "this is string example....wow!!!     \n",
            "this is string example....wow!!!999999\n",
            "88888888this is string example....wow!!!\n"
          ]
        }
      ]
    },
    {
      "cell_type": "code",
      "metadata": {
        "id": "8fecbd1e",
        "outputId": "2bfff67b-4292-49c8-d712-81b4228387ff"
      },
      "source": [
        "str = \"THIS IS STRING EXAMPLE....WOW!!!\";\n",
        "print (str.lower())"
      ],
      "id": "8fecbd1e",
      "execution_count": null,
      "outputs": [
        {
          "name": "stdout",
          "output_type": "stream",
          "text": [
            "this is string example....wow!!!\n"
          ]
        }
      ]
    },
    {
      "cell_type": "code",
      "metadata": {
        "id": "525011b2",
        "outputId": "b97bd12f-4129-4228-bef0-619a69e352d0"
      },
      "source": [
        "#returns largest character\n",
        "str = \"check....wow!!!\";\n",
        "print (\"Max character: \" + max(str))\n",
        "\n",
        "str = \"manju....!!!\";\n",
        "print (\"Max character: \" + max(str))"
      ],
      "id": "525011b2",
      "execution_count": null,
      "outputs": [
        {
          "name": "stdout",
          "output_type": "stream",
          "text": [
            "Max character: w\n",
            "Max character: s\n"
          ]
        }
      ]
    },
    {
      "cell_type": "code",
      "metadata": {
        "id": "527b32f4",
        "outputId": "f05d2b41-4a5a-46a6-eb0b-e458b1986bb6"
      },
      "source": [
        "str = \"this-is-real-string-example....wow!!!\";\n",
        "print (\"Min character: \" + min(str))\n",
        "\n",
        "str = \"this-is-a-string-example....wow!!!\";\n",
        "print (\"Min character: \" + min(str))"
      ],
      "id": "527b32f4",
      "execution_count": null,
      "outputs": [
        {
          "name": "stdout",
          "output_type": "stream",
          "text": [
            "Min character: !\n",
            "Min character: !\n"
          ]
        }
      ]
    },
    {
      "cell_type": "code",
      "metadata": {
        "id": "720b1d77",
        "outputId": "62b8cc4b-ff11-4a57-806e-2df003349749"
      },
      "source": [
        "#str.replace(old, new[, max])\n",
        "\n",
        "str = \"this is string example....wow!!! this is really string\"\n",
        "print (str.replace(\"is\", \"was\"))\n",
        "print (str.replace(\"is\", \"was\", 3))"
      ],
      "id": "720b1d77",
      "execution_count": null,
      "outputs": [
        {
          "name": "stdout",
          "output_type": "stream",
          "text": [
            "thwas was string example....wow!!! thwas was really string\n",
            "thwas was string example....wow!!! thwas is really string\n"
          ]
        }
      ]
    },
    {
      "cell_type": "code",
      "metadata": {
        "id": "22b8a873",
        "outputId": "f3e8b162-2f0d-4f00-bc6b-320847a56a7d"
      },
      "source": [
        "str = \"this is string example....wow!!!\";\n",
        "print (str.startswith( 'this' ))\n",
        "print (str.startswith( 'is', 2, 4 ))\n",
        "print (str.startswith( 'this', 2, 4 ))"
      ],
      "id": "22b8a873",
      "execution_count": null,
      "outputs": [
        {
          "name": "stdout",
          "output_type": "stream",
          "text": [
            "True\n",
            "True\n",
            "False\n"
          ]
        }
      ]
    },
    {
      "cell_type": "code",
      "metadata": {
        "id": "be5dc6d3",
        "outputId": "d9c42b74-97d6-42d4-c3a3-57ce81ffed6a"
      },
      "source": [
        "str = \"this is string example....wow!!!\";\n",
        "print (\"str.capitalize() : \", str.upper())"
      ],
      "id": "be5dc6d3",
      "execution_count": null,
      "outputs": [
        {
          "name": "stdout",
          "output_type": "stream",
          "text": [
            "str.capitalize() :  THIS IS STRING EXAMPLE....WOW!!!\n"
          ]
        }
      ]
    },
    {
      "cell_type": "code",
      "metadata": {
        "id": "fff92a6e",
        "outputId": "9c255e48-2b6c-407a-a9a7-9ce6f72c43ce"
      },
      "source": [
        "str = \"this is string example....wow!!!\";\n",
        "print (str.swapcase())\n",
        "\n",
        "str = \"THIS IS STRING EXAMPLE....WOW!!!\";\n",
        "print (str.swapcase())"
      ],
      "id": "fff92a6e",
      "execution_count": null,
      "outputs": [
        {
          "name": "stdout",
          "output_type": "stream",
          "text": [
            "THIS IS STRING EXAMPLE....WOW!!!\n",
            "this is string example....wow!!!\n"
          ]
        }
      ]
    },
    {
      "cell_type": "code",
      "metadata": {
        "id": "24cc3914"
      },
      "source": [
        ""
      ],
      "id": "24cc3914",
      "execution_count": null,
      "outputs": []
    },
    {
      "cell_type": "code",
      "metadata": {
        "id": "db06d76a"
      },
      "source": [
        ""
      ],
      "id": "db06d76a",
      "execution_count": null,
      "outputs": []
    }
  ]
}