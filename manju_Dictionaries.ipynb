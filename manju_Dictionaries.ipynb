{
  "nbformat": 4,
  "nbformat_minor": 5,
  "metadata": {
    "kernelspec": {
      "display_name": "Python 3",
      "language": "python",
      "name": "python3"
    },
    "language_info": {
      "codemirror_mode": {
        "name": "ipython",
        "version": 3
      },
      "file_extension": ".py",
      "mimetype": "text/x-python",
      "name": "python",
      "nbconvert_exporter": "python",
      "pygments_lexer": "ipython3",
      "version": "3.8.8"
    },
    "colab": {
      "name": "manju_Dictionaries.ipynb",
      "provenance": [],
      "include_colab_link": true
    }
  },
  "cells": [
    {
      "cell_type": "markdown",
      "metadata": {
        "id": "view-in-github",
        "colab_type": "text"
      },
      "source": [
        "<a href=\"https://colab.research.google.com/github/manjureddy28/DAP/blob/main/manju_Dictionaries.ipynb\" target=\"_parent\"><img src=\"https://colab.research.google.com/assets/colab-badge.svg\" alt=\"Open In Colab\"/></a>"
      ]
    },
    {
      "cell_type": "code",
      "metadata": {
        "colab": {
          "base_uri": "https://localhost:8080/"
        },
        "id": "f9e29d38",
        "outputId": "d16dc421-536a-4a36-cc76-6102f50af22f"
      },
      "source": [
        "dict={'name':'manju','designation':'AsP','qual':'phd','univ':'cmr'}\n",
        "print(dict['name'])\n",
        "\n",
        "\n",
        "print(dict['qual'])"
      ],
      "id": "f9e29d38",
      "execution_count": null,
      "outputs": [
        {
          "output_type": "stream",
          "name": "stdout",
          "text": [
            "manju\n",
            "phd\n"
          ]
        }
      ]
    },
    {
      "cell_type": "code",
      "metadata": {
        "colab": {
          "base_uri": "https://localhost:8080/"
        },
        "id": "dae64caa",
        "outputId": "93932a63-8ed6-4763-ccdf-e6c8df25dc1f"
      },
      "source": [
        "dict={'name':'manju','designation':'AsP','qual':'phd','univ':'cmr'}\n",
        "\n",
        "dict['name']='reddy'\n",
        "\n",
        "print(dict['name'])\n",
        "\n",
        "dict['class']='cse7sem'\n",
        "\n",
        "print(dict['class'])\n",
        "\n"
      ],
      "id": "dae64caa",
      "execution_count": null,
      "outputs": [
        {
          "output_type": "stream",
          "name": "stdout",
          "text": [
            "reddy\n",
            "cse7sem\n"
          ]
        }
      ]
    },
    {
      "cell_type": "code",
      "metadata": {
        "id": "a812e5e4"
      },
      "source": [
        "dict={'name':'manju','designation':'AsP','qual':'phd','univ':'cmr'}\n",
        "\n",
        "\n",
        "del dict['designation']\n",
        "\n",
        "#print(dict['designation'])\n",
        "\n",
        "dict.clear()\n",
        "\n",
        "#print(dict['name'])\n",
        "\n",
        "del dict"
      ],
      "id": "a812e5e4",
      "execution_count": null,
      "outputs": []
    },
    {
      "cell_type": "code",
      "metadata": {
        "colab": {
          "base_uri": "https://localhost:8080/"
        },
        "id": "fd8f8734",
        "outputId": "fff292ce-21bf-453d-fd0d-4b3e1a2942d8"
      },
      "source": [
        "dict={'name':'manju','designation':'AsP','qual':'phd','univ':'cmr', 'name':'Nishitha'}\n",
        "\n",
        "\n",
        "print(dict['name'])\n",
        "\n",
        "print(len(dict))"
      ],
      "id": "fd8f8734",
      "execution_count": null,
      "outputs": [
        {
          "output_type": "stream",
          "name": "stdout",
          "text": [
            "Nishitha\n",
            "4\n"
          ]
        }
      ]
    },
    {
      "cell_type": "code",
      "metadata": {
        "colab": {
          "base_uri": "https://localhost:8080/"
        },
        "id": "7a9cf5ae",
        "outputId": "f1f91438-bfab-4b0f-8568-c63ce39fae1c"
      },
      "source": [
        "dict={'name':'manju','designation':'AsP','qual':'phd','univ':'cmr', 'name':'Nishitha'}\n",
        "\n",
        "\n",
        "print(dict.values())\n",
        "\n",
        "print(dict.items())\n",
        "\n",
        "print(dict.keys())"
      ],
      "id": "7a9cf5ae",
      "execution_count": null,
      "outputs": [
        {
          "output_type": "stream",
          "name": "stdout",
          "text": [
            "dict_values(['Nishitha', 'AsP', 'phd', 'cmr'])\n",
            "dict_items([('name', 'Nishitha'), ('designation', 'AsP'), ('qual', 'phd'), ('univ', 'cmr')])\n",
            "dict_keys(['name', 'designation', 'qual', 'univ'])\n"
          ]
        }
      ]
    },
    {
      "cell_type": "code",
      "metadata": {
        "colab": {
          "base_uri": "https://localhost:8080/"
        },
        "id": "2842e9db",
        "outputId": "ae7608c7-86ae-49fd-920e-a9d26dfa68b2"
      },
      "source": [
        "dict={'name':'manju','designation':'AsP','qual':'phd','univ':'cmr', 'name':'Nishitha'}\n",
        "\n",
        "\n",
        "print(dict['name'])\n",
        "\n",
        "print(dict.get('edu',\"nothing\"))\n",
        "\n",
        "\n"
      ],
      "id": "2842e9db",
      "execution_count": null,
      "outputs": [
        {
          "output_type": "stream",
          "name": "stdout",
          "text": [
            "Nishitha\n",
            "nothing\n"
          ]
        }
      ]
    },
    {
      "cell_type": "code",
      "metadata": {
        "colab": {
          "base_uri": "https://localhost:8080/"
        },
        "id": "243dda29",
        "outputId": "fe5ef9be-40a0-46bb-ad25-e3060cb2a218"
      },
      "source": [
        "dict={'name':'manju','designation':'AsP','qual':'phd','univ':'cmr', 'name':'Nishitha'}\n",
        "\n",
        "\n",
        "dict2=dict.copy()\n",
        "\n",
        "print(dict2['name'])\n",
        "\n",
        "print(len(dict2))"
      ],
      "id": "243dda29",
      "execution_count": null,
      "outputs": [
        {
          "output_type": "stream",
          "name": "stdout",
          "text": [
            "Nishitha\n",
            "4\n"
          ]
        }
      ]
    },
    {
      "cell_type": "code",
      "metadata": {
        "colab": {
          "base_uri": "https://localhost:8080/"
        },
        "id": "6a57403b",
        "outputId": "ceb33148-5d9d-4783-c018-fdfffca8fe7e"
      },
      "source": [
        "dict={'name':'manju','designation':'AsP','qual':'phd','univ':'cmr', 'name':'Nishitha'}\n",
        "\n",
        "\n",
        "dict2={'edu':'btech-mtech','students':'7sem'}\n",
        "\n",
        "print(dict)\n",
        "print(dict2)\n",
        "\n",
        "dict.update(dict2)\n",
        "\n",
        "print(dict)"
      ],
      "id": "6a57403b",
      "execution_count": null,
      "outputs": [
        {
          "output_type": "stream",
          "name": "stdout",
          "text": [
            "{'name': 'Nishitha', 'designation': 'AsP', 'qual': 'phd', 'univ': 'cmr'}\n",
            "{'edu': 'btech-mtech', 'students': '7sem'}\n",
            "{'name': 'Nishitha', 'designation': 'AsP', 'qual': 'phd', 'univ': 'cmr', 'edu': 'btech-mtech', 'students': '7sem'}\n"
          ]
        }
      ]
    },
    {
      "cell_type": "code",
      "metadata": {
        "id": "4e542941"
      },
      "source": [
        ""
      ],
      "id": "4e542941",
      "execution_count": null,
      "outputs": []
    }
  ]
}