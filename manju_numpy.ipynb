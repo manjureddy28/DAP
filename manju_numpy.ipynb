{
  "nbformat": 4,
  "nbformat_minor": 5,
  "metadata": {
    "kernelspec": {
      "display_name": "Python 3",
      "language": "python",
      "name": "python3"
    },
    "language_info": {
      "codemirror_mode": {
        "name": "ipython",
        "version": 3
      },
      "file_extension": ".py",
      "mimetype": "text/x-python",
      "name": "python",
      "nbconvert_exporter": "python",
      "pygments_lexer": "ipython3",
      "version": "3.8.8"
    },
    "colab": {
      "name": "manju_numpy.ipynb",
      "provenance": [],
      "include_colab_link": true
    }
  },
  "cells": [
    {
      "cell_type": "markdown",
      "metadata": {
        "id": "view-in-github",
        "colab_type": "text"
      },
      "source": [
        "<a href=\"https://colab.research.google.com/github/manjureddy28/DAP/blob/main/manju_numpy.ipynb\" target=\"_parent\"><img src=\"https://colab.research.google.com/assets/colab-badge.svg\" alt=\"Open In Colab\"/></a>"
      ]
    },
    {
      "cell_type": "code",
      "metadata": {
        "id": "2d08d9ce",
        "outputId": "c0ee9d13-2bfa-4143-a856-0e430dc69afe"
      },
      "source": [
        "import numpy as npa \n",
        "npa= np.array([1, 2, 3])\n",
        "print(npa)"
      ],
      "id": "2d08d9ce",
      "execution_count": null,
      "outputs": [
        {
          "name": "stdout",
          "output_type": "stream",
          "text": [
            "[1 2 3]\n"
          ]
        }
      ]
    },
    {
      "cell_type": "code",
      "metadata": {
        "id": "941afc8f",
        "outputId": "8a593870-5378-4d65-f7d6-d1e5bbcef2bc"
      },
      "source": [
        "import numpy as npp\n",
        "a = npp.array([[1 , 2, 3, 4], [5, 6, 7, 8], [9, 10, 11, 12]])\n",
        "print(a)"
      ],
      "id": "941afc8f",
      "execution_count": null,
      "outputs": [
        {
          "name": "stdout",
          "output_type": "stream",
          "text": [
            "[[ 1  2  3  4]\n",
            " [ 5  6  7  8]\n",
            " [ 9 10 11 12]]\n"
          ]
        }
      ]
    },
    {
      "cell_type": "code",
      "metadata": {
        "id": "7584a380",
        "outputId": "5f632396-1357-4e56-85f9-fa88accc8253"
      },
      "source": [
        "import numpy as np\n",
        "a=np.zeros(2)\n",
        "print(a)"
      ],
      "id": "7584a380",
      "execution_count": null,
      "outputs": [
        {
          "name": "stdout",
          "output_type": "stream",
          "text": [
            "[0. 0.]\n"
          ]
        }
      ]
    },
    {
      "cell_type": "code",
      "metadata": {
        "id": "7536046a",
        "outputId": "2e8806f0-7e11-4502-fe77-062aa2efac78"
      },
      "source": [
        "import numpy as np\n",
        "a=np.ones(4)\n",
        "print(a)"
      ],
      "id": "7536046a",
      "execution_count": null,
      "outputs": [
        {
          "name": "stdout",
          "output_type": "stream",
          "text": [
            "[1. 1. 1. 1.]\n"
          ]
        }
      ]
    },
    {
      "cell_type": "code",
      "metadata": {
        "id": "0b92a9c5",
        "outputId": "1c96cf05-9794-455c-c7be-57cb44a0803f"
      },
      "source": [
        "import numpy as np\n",
        "ab=np.empty(4)\n",
        "print(ab)"
      ],
      "id": "0b92a9c5",
      "execution_count": null,
      "outputs": [
        {
          "name": "stdout",
          "output_type": "stream",
          "text": [
            "[1. 1. 1. 1.]\n"
          ]
        }
      ]
    },
    {
      "cell_type": "code",
      "metadata": {
        "id": "a9694ba3",
        "outputId": "b6539fd1-eab7-454f-d861-cf332e9563f4"
      },
      "source": [
        "import numpy as np\n",
        "a=np.arange(7)\n",
        "print(a)"
      ],
      "id": "a9694ba3",
      "execution_count": null,
      "outputs": [
        {
          "name": "stdout",
          "output_type": "stream",
          "text": [
            "[0 1 2 3 4 5 6]\n"
          ]
        }
      ]
    },
    {
      "cell_type": "code",
      "metadata": {
        "id": "bb3a84f0",
        "outputId": "54a298ab-c377-4755-f258-7927f24a9b29"
      },
      "source": [
        "import numpy as np\n",
        "a=np.arange(2,9,2)\n",
        "print(a)"
      ],
      "id": "bb3a84f0",
      "execution_count": null,
      "outputs": [
        {
          "name": "stdout",
          "output_type": "stream",
          "text": [
            "[2 4 6 8]\n"
          ]
        }
      ]
    },
    {
      "cell_type": "code",
      "metadata": {
        "id": "83f72ecc",
        "outputId": "acd2a7eb-1ece-4f04-cfb7-6c874c4cfd27"
      },
      "source": [
        "y = np.ones(2, dtype=int)\n",
        "print(y)\n",
        "y"
      ],
      "id": "83f72ecc",
      "execution_count": null,
      "outputs": [
        {
          "name": "stdout",
          "output_type": "stream",
          "text": [
            "[1 1]\n"
          ]
        },
        {
          "data": {
            "text/plain": [
              "array([1, 1])"
            ]
          },
          "execution_count": 25,
          "metadata": {},
          "output_type": "execute_result"
        }
      ]
    },
    {
      "cell_type": "code",
      "metadata": {
        "id": "712f9bf9",
        "outputId": "bfd8493a-1e05-46bd-fe45-effcaf3c9058"
      },
      "source": [
        "arr = np.array([1, 2, 3, 4, 5, 6, 7, 8])\n",
        "print(arr)"
      ],
      "id": "712f9bf9",
      "execution_count": null,
      "outputs": [
        {
          "name": "stdout",
          "output_type": "stream",
          "text": [
            "[1 2 3 4 5 6 7 8]\n"
          ]
        }
      ]
    },
    {
      "cell_type": "code",
      "metadata": {
        "id": "e07d6ebf",
        "outputId": "e2ea51a0-b530-443c-9f81-10ab63e627f9"
      },
      "source": [
        "a = np.array([1, 2, 3, 4, 5, 6, 7, 8])\n",
        "print(a)\n",
        "\n",
        "\n",
        "a=np.delete(a, 1)\n",
        "print(a)"
      ],
      "id": "e07d6ebf",
      "execution_count": null,
      "outputs": [
        {
          "name": "stdout",
          "output_type": "stream",
          "text": [
            "[1 2 3 4 5 6 7 8]\n",
            "[1 3 4 5 6 7 8]\n"
          ]
        }
      ]
    },
    {
      "cell_type": "code",
      "metadata": {
        "id": "d40b9748",
        "outputId": "32b73058-ae89-4317-d904-1a9a7f796c8b"
      },
      "source": [
        "a = np.array([19, 22, 34, 14, 55, 76, 47, 8])\n",
        "print(a)\n",
        "\n",
        "\n",
        "a=np.sort(a)\n",
        "print(a)"
      ],
      "id": "d40b9748",
      "execution_count": null,
      "outputs": [
        {
          "name": "stdout",
          "output_type": "stream",
          "text": [
            "[19 22 34 14 55 76 47  8]\n",
            "[ 8 14 19 22 34 47 55 76]\n"
          ]
        }
      ]
    },
    {
      "cell_type": "code",
      "metadata": {
        "id": "c353aedc",
        "outputId": "7afb4bd6-7f4e-43e9-c415-07d6a7764e83"
      },
      "source": [
        "import numpy as np\n",
        "\n",
        "arr = np.array([[1, 2, 3], [4, 5, 6]])\n",
        "a=arr.ndim\n",
        "print(arr) \n",
        "print(\"dimensions = \", a)"
      ],
      "id": "c353aedc",
      "execution_count": null,
      "outputs": [
        {
          "name": "stdout",
          "output_type": "stream",
          "text": [
            "[[1 2 3]\n",
            " [4 5 6]]\n",
            "dimensions =  2\n"
          ]
        }
      ]
    },
    {
      "cell_type": "code",
      "metadata": {
        "id": "ae3fbb3d",
        "outputId": "9eae86fc-5075-4870-8ad2-6b028f0f740e"
      },
      "source": [
        "import numpy as np\n",
        "\n",
        "arr = np.array([[[1, 2, 3], [4, 5, 6]], [[11, 22, 33], [44, 55, 66]]])\n",
        "a=arr.ndim\n",
        "b=arr.size\n",
        "print(arr) \n",
        "print(\"dimensions = \", a)\n",
        "print(\"size = \", b)\n"
      ],
      "id": "ae3fbb3d",
      "execution_count": null,
      "outputs": [
        {
          "name": "stdout",
          "output_type": "stream",
          "text": [
            "[[[ 1  2  3]\n",
            "  [ 4  5  6]]\n",
            "\n",
            " [[11 22 33]\n",
            "  [44 55 66]]]\n",
            "dimensions =  3\n",
            "size =  12\n"
          ]
        }
      ]
    },
    {
      "cell_type": "code",
      "metadata": {
        "id": "385f3420",
        "outputId": "571346aa-86ff-4c9a-be77-9e3deafcb8b8"
      },
      "source": [
        "import numpy as np\n",
        "\n",
        "a = np.array(42)\n",
        "b = np.array([1, 2, 3, 4, 5])\n",
        "c = np.array([[1, 2, 3], [4, 5, 6]])\n",
        "d = np.array([[[1, 2, 3], [4, 5, 6]], [[1, 2, 3], [4, 5, 6]]])\n",
        "\n",
        "print(a)\n",
        "print(\"dimension= \", a.ndim)\n",
        "print(b)\n",
        "print(\"dimension= \", b.ndim)\n",
        "print(c)\n",
        "print(\"dimension= \", c.ndim)\n",
        "print(d)\n",
        "print(\"dimension= \", d.ndim)\n"
      ],
      "id": "385f3420",
      "execution_count": null,
      "outputs": [
        {
          "name": "stdout",
          "output_type": "stream",
          "text": [
            "42\n",
            "dimension=  0\n",
            "[1 2 3 4 5]\n",
            "dimension=  1\n",
            "[[1 2 3]\n",
            " [4 5 6]]\n",
            "dimension=  2\n",
            "[[[1 2 3]\n",
            "  [4 5 6]]\n",
            "\n",
            " [[1 2 3]\n",
            "  [4 5 6]]]\n",
            "dimension=  3\n"
          ]
        }
      ]
    },
    {
      "cell_type": "code",
      "metadata": {
        "id": "301ac4c6",
        "outputId": "c7f7206e-52f7-4872-964d-709599966508"
      },
      "source": [
        "import numpy as np\n",
        "\n",
        "arr = np.array([[1, 2, 3, 4], [5, 6, 7, 8]])\n",
        "\n",
        "print(arr.shape) "
      ],
      "id": "301ac4c6",
      "execution_count": null,
      "outputs": [
        {
          "name": "stdout",
          "output_type": "stream",
          "text": [
            "(2, 4)\n"
          ]
        }
      ]
    },
    {
      "cell_type": "code",
      "metadata": {
        "id": "6a06420e",
        "outputId": "dbd1525d-5307-40a2-e0d2-6bc18e3eb20e"
      },
      "source": [
        "a = np.arange(6)\n",
        "print(a)\n",
        "\n",
        "b = a.reshape(3,2)\n",
        "print(b)"
      ],
      "id": "6a06420e",
      "execution_count": null,
      "outputs": [
        {
          "name": "stdout",
          "output_type": "stream",
          "text": [
            "[0 1 2 3 4 5]\n",
            "[[0 1]\n",
            " [2 3]\n",
            " [4 5]]\n"
          ]
        }
      ]
    },
    {
      "cell_type": "code",
      "metadata": {
        "id": "a8d2d0c7"
      },
      "source": [
        ""
      ],
      "id": "a8d2d0c7",
      "execution_count": null,
      "outputs": []
    }
  ]
}