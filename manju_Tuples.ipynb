{
  "nbformat": 4,
  "nbformat_minor": 5,
  "metadata": {
    "kernelspec": {
      "display_name": "Python 3",
      "language": "python",
      "name": "python3"
    },
    "language_info": {
      "codemirror_mode": {
        "name": "ipython",
        "version": 3
      },
      "file_extension": ".py",
      "mimetype": "text/x-python",
      "name": "python",
      "nbconvert_exporter": "python",
      "pygments_lexer": "ipython3",
      "version": "3.8.8"
    },
    "colab": {
      "name": "manju_Tuples.ipynb",
      "provenance": [],
      "include_colab_link": true
    }
  },
  "cells": [
    {
      "cell_type": "markdown",
      "metadata": {
        "id": "view-in-github",
        "colab_type": "text"
      },
      "source": [
        "<a href=\"https://colab.research.google.com/github/manjureddy28/DAP/blob/main/manju_Tuples.ipynb\" target=\"_parent\"><img src=\"https://colab.research.google.com/assets/colab-badge.svg\" alt=\"Open In Colab\"/></a>"
      ]
    },
    {
      "cell_type": "code",
      "metadata": {
        "id": "424b5b94",
        "outputId": "ce9f5f45-0885-41e6-ee34-33f6d2ef90aa"
      },
      "source": [
        "tup= ('cse','it','mech')\n",
        "print(tup)\n",
        "tup1=(1,23,4,5,5,6)\n",
        "print(tup1)\n",
        "tup2=\"abc\",\"def\"\n",
        "print(tup2)"
      ],
      "id": "424b5b94",
      "execution_count": null,
      "outputs": [
        {
          "name": "stdout",
          "output_type": "stream",
          "text": [
            "('cse', 'it', 'mech')\n",
            "(1, 23, 4, 5, 5, 6)\n",
            "('abc', 'def')\n"
          ]
        }
      ]
    },
    {
      "cell_type": "code",
      "metadata": {
        "id": "debde1a5",
        "outputId": "46090438-f72d-44ec-f0d3-fa230e8ed27b"
      },
      "source": [
        "tup1 = ()\n",
        "print(tup1)"
      ],
      "id": "debde1a5",
      "execution_count": null,
      "outputs": [
        {
          "name": "stdout",
          "output_type": "stream",
          "text": [
            "()\n"
          ]
        }
      ]
    },
    {
      "cell_type": "code",
      "metadata": {
        "id": "74286d0d",
        "outputId": "9ea08e42-5054-43df-a003-b9ac3a6ae715"
      },
      "source": [
        "tup1 = (24)\n",
        "print(tup1)"
      ],
      "id": "74286d0d",
      "execution_count": null,
      "outputs": [
        {
          "name": "stdout",
          "output_type": "stream",
          "text": [
            "24\n"
          ]
        }
      ]
    },
    {
      "cell_type": "code",
      "metadata": {
        "id": "a79a5606",
        "outputId": "748456e2-45b8-4041-9724-70190fa1d36c"
      },
      "source": [
        "tup= ('cse','it','mech','ece','electrical')\n",
        "print(tup[0])\n",
        "print(tup[2])\n",
        "print(tup[2:5])"
      ],
      "id": "a79a5606",
      "execution_count": null,
      "outputs": [
        {
          "name": "stdout",
          "output_type": "stream",
          "text": [
            "cse\n",
            "mech\n",
            "('mech', 'ece', 'electrical')\n"
          ]
        }
      ]
    },
    {
      "cell_type": "code",
      "metadata": {
        "id": "21292bd1",
        "outputId": "d4123218-a97d-4cb8-e4b4-fa41f18af19c"
      },
      "source": [
        "tup1= ('cse','it','mech','ece','electrical')\n",
        "print(tup1)\n",
        "\n",
        "del(tup1)\n",
        "print(tup1)"
      ],
      "id": "21292bd1",
      "execution_count": null,
      "outputs": [
        {
          "name": "stdout",
          "output_type": "stream",
          "text": [
            "('cse', 'it', 'mech', 'ece', 'electrical')\n"
          ]
        },
        {
          "ename": "NameError",
          "evalue": "name 'tup1' is not defined",
          "output_type": "error",
          "traceback": [
            "\u001b[1;31m---------------------------------------------------------------------------\u001b[0m",
            "\u001b[1;31mNameError\u001b[0m                                 Traceback (most recent call last)",
            "\u001b[1;32m<ipython-input-10-f0e3be02146e>\u001b[0m in \u001b[0;36m<module>\u001b[1;34m\u001b[0m\n\u001b[0;32m      3\u001b[0m \u001b[1;33m\u001b[0m\u001b[0m\n\u001b[0;32m      4\u001b[0m \u001b[1;32mdel\u001b[0m\u001b[1;33m(\u001b[0m\u001b[0mtup1\u001b[0m\u001b[1;33m)\u001b[0m\u001b[1;33m\u001b[0m\u001b[1;33m\u001b[0m\u001b[0m\n\u001b[1;32m----> 5\u001b[1;33m \u001b[0mprint\u001b[0m\u001b[1;33m(\u001b[0m\u001b[0mtup1\u001b[0m\u001b[1;33m)\u001b[0m\u001b[1;33m\u001b[0m\u001b[1;33m\u001b[0m\u001b[0m\n\u001b[0m",
            "\u001b[1;31mNameError\u001b[0m: name 'tup1' is not defined"
          ]
        }
      ]
    },
    {
      "cell_type": "code",
      "metadata": {
        "colab": {
          "base_uri": "https://localhost:8080/"
        },
        "id": "10d1afee",
        "outputId": "19a8bc5e-8b4f-4665-e4c6-683faa15d1e5"
      },
      "source": [
        "tup1= ('cse','it','mech','ece','electrical')\n",
        "print(tup1)\n",
        "tup2= ('manju','nishitha','roy')\n",
        "print(tup2)\n",
        "\n",
        "\n",
        "tup3=tup1+tup2\n",
        "print(tup3)"
      ],
      "id": "10d1afee",
      "execution_count": null,
      "outputs": [
        {
          "output_type": "stream",
          "name": "stdout",
          "text": [
            "('cse', 'it', 'mech', 'ece', 'electrical')\n",
            "('manju', 'nishitha', 'roy')\n",
            "('cse', 'it', 'mech', 'ece', 'electrical', 'manju', 'nishitha', 'roy')\n"
          ]
        }
      ]
    },
    {
      "cell_type": "code",
      "metadata": {
        "colab": {
          "base_uri": "https://localhost:8080/",
          "height": 253
        },
        "id": "bb18bcef",
        "outputId": "ce500275-5df0-45d1-a09f-5e9fc79d4ef6"
      },
      "source": [
        "tup1= ('cse','it','mech','ece','electrical')\n",
        "print(tup1)\n",
        "\n",
        "print(\"value at 3rd loc= \",tup1[3])\n",
        "\n",
        "tup1[3]=\"manju\" #not allowed\n",
        "print(\"UPDATED value at 3rd loc= \",tup1[3])"
      ],
      "id": "bb18bcef",
      "execution_count": null,
      "outputs": [
        {
          "output_type": "stream",
          "name": "stdout",
          "text": [
            "('cse', 'it', 'mech', 'ece', 'electrical')\n",
            "value at 3rd loc=  ece\n"
          ]
        },
        {
          "output_type": "error",
          "ename": "TypeError",
          "evalue": "ignored",
          "traceback": [
            "\u001b[0;31m---------------------------------------------------------------------------\u001b[0m",
            "\u001b[0;31mTypeError\u001b[0m                                 Traceback (most recent call last)",
            "\u001b[0;32m<ipython-input-2-b8d341d1bced>\u001b[0m in \u001b[0;36m<module>\u001b[0;34m()\u001b[0m\n\u001b[1;32m      4\u001b[0m \u001b[0mprint\u001b[0m\u001b[0;34m(\u001b[0m\u001b[0;34m\"value at 3rd loc= \"\u001b[0m\u001b[0;34m,\u001b[0m\u001b[0mtup1\u001b[0m\u001b[0;34m[\u001b[0m\u001b[0;36m3\u001b[0m\u001b[0;34m]\u001b[0m\u001b[0;34m)\u001b[0m\u001b[0;34m\u001b[0m\u001b[0;34m\u001b[0m\u001b[0m\n\u001b[1;32m      5\u001b[0m \u001b[0;34m\u001b[0m\u001b[0m\n\u001b[0;32m----> 6\u001b[0;31m \u001b[0mtup1\u001b[0m\u001b[0;34m[\u001b[0m\u001b[0;36m3\u001b[0m\u001b[0;34m]\u001b[0m\u001b[0;34m=\u001b[0m\u001b[0;34m\"manju\"\u001b[0m \u001b[0;31m#not allowed\u001b[0m\u001b[0;34m\u001b[0m\u001b[0;34m\u001b[0m\u001b[0m\n\u001b[0m\u001b[1;32m      7\u001b[0m \u001b[0mprint\u001b[0m\u001b[0;34m(\u001b[0m\u001b[0;34m\"UPDATED value at 3rd loc= \"\u001b[0m\u001b[0;34m,\u001b[0m\u001b[0mtup1\u001b[0m\u001b[0;34m[\u001b[0m\u001b[0;36m3\u001b[0m\u001b[0;34m]\u001b[0m\u001b[0;34m)\u001b[0m\u001b[0;34m\u001b[0m\u001b[0;34m\u001b[0m\u001b[0m\n",
            "\u001b[0;31mTypeError\u001b[0m: 'tuple' object does not support item assignment"
          ]
        }
      ]
    },
    {
      "cell_type": "code",
      "metadata": {
        "colab": {
          "base_uri": "https://localhost:8080/"
        },
        "id": "90cb299f",
        "outputId": "eb8c8190-ae45-4518-cded-0f9d09c6603c"
      },
      "source": [
        "tup1= ('cse','it','mech','ece','electrical')\n",
        "print(tup1)\n",
        "tup2= ('manju','nishitha','roy')\n",
        "print(tup2)\n",
        "a=len(tup1)\n",
        "b=len(tup2)\n",
        "print(a)\n",
        "print(b)\n",
        "\n",
        "print(len(tup1))\n"
      ],
      "id": "90cb299f",
      "execution_count": null,
      "outputs": [
        {
          "output_type": "stream",
          "name": "stdout",
          "text": [
            "('cse', 'it', 'mech', 'ece', 'electrical')\n",
            "('manju', 'nishitha', 'roy')\n",
            "5\n",
            "3\n",
            "5\n"
          ]
        }
      ]
    },
    {
      "cell_type": "code",
      "metadata": {
        "colab": {
          "base_uri": "https://localhost:8080/"
        },
        "id": "fd3c1496",
        "outputId": "231a6f09-011b-4b4f-bcdb-351543ecbc25"
      },
      "source": [
        "tup1= ('cse','it','mech','ece','electrical')\n",
        "print(tup1)\n",
        "tup2= ('manju','nishitha','roy')\n",
        "print(tup2)\n",
        "\n",
        "\n",
        "print(max(tup1))"
      ],
      "id": "fd3c1496",
      "execution_count": null,
      "outputs": [
        {
          "output_type": "stream",
          "name": "stdout",
          "text": [
            "('cse', 'it', 'mech', 'ece', 'electrical')\n",
            "('manju', 'nishitha', 'roy')\n",
            "mech\n"
          ]
        }
      ]
    },
    {
      "cell_type": "code",
      "metadata": {
        "id": "80ef4447"
      },
      "source": [
        ""
      ],
      "id": "80ef4447",
      "execution_count": null,
      "outputs": []
    }
  ]
}